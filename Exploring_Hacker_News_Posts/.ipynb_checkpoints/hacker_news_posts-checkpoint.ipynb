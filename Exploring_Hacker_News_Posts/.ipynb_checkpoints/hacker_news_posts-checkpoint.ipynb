{
 "cells": [
  {
   "cell_type": "markdown",
   "metadata": {},
   "source": [
    "# Hacker News Posts Analysis\n",
    "\n",
    "In this small project, we will investigate a [Hacker News dataset](https://www.kaggle.com/hacker-news/hacker-news-posts) from Kaggle. As detailed on Kaggle, this dataset includes all posts from the 12-month period of September 26 2015-2016. Post data include the number of points/upvotes and comments at time of the data scrape.\n",
    "\n",
    "Here we will investigate two main questions:\n",
    "1. Do \"Ask HN\" or \"Show HN\" posts receive more comments?\n",
    " - \"Ask HN\" posts are submitted by users asking the Hacker News Community a specific question, whereas \"Show HN\" posts highlight something of interest to the community\n",
    "2. Do posts created at a certain date/time receive more comments?\n",
    "\n",
    "Sections of the analysis are outlined below:\n",
    "\n",
    "[0.0 Data Pre-processing](#0.0-Data-Pre-processing) <br>\n",
    "[0.1 Import Dataset](#0.1-Import-Dataset) <br>\n",
    "[0.2 Filter Data](#0.2-Filter-Data) <br>\n",
    "\n",
    "[1.0 Post Metrics](#1.0-Post-Metrics) <br>\n",
    "[1.1 Comment Numbers](#1.1-Comment-Numbers) <br>\n",
    "[1.2 Point Numbers](#1.2-Point-Numbers) <br>\n",
    "\n",
    "[2.0 Effect of Time of Day](#2.0-Effect-of-Time-of-Day) <br>\n",
    "[2.1 Comments vs Time of Day](#2.1-Comments-vs-Time-of-Day) <br>\n",
    "[2.2 High Comment Average Between 2am-3am](#2.2-High-Comment-Average-Between-2am-3am) <br>\n",
    "***"
   ]
  },
  {
   "cell_type": "code",
   "execution_count": null,
   "metadata": {},
   "outputs": [],
   "source": [
    "# imports\n",
    "import datetime as dt"
   ]
  },
  {
   "cell_type": "markdown",
   "metadata": {},
   "source": [
    "## 0.0 Data Pre-processing\n",
    "### 0.1 Import Dataset"
   ]
  },
  {
   "cell_type": "code",
   "execution_count": 2,
   "metadata": {},
   "outputs": [
    {
     "name": "stdout",
     "output_type": "stream",
     "text": [
      "['id', 'title', 'url', 'num_points', 'num_comments', 'author', 'created_at']\n",
      "['12224879', 'Interactive Dynamic Video', 'http://www.interactivedynamicvideo.com/', '386', '52', 'ne0phyte', '8/4/2016 11:52']\n",
      "['10975351', 'How to Use Open Source and Shut the Fuck Up at the Same Time', 'http://hueniverse.com/2016/01/26/how-to-use-open-source-and-shut-the-fuck-up-at-the-same-time/', '39', '10', 'josep2', '1/26/2016 19:30']\n",
      "\n"
     ]
    }
   ],
   "source": [
    "from csv import reader\n",
    "opened_file = open('hacker_news.csv')\n",
    "read_file = reader(opened_file)\n",
    "hn = list(read_file)\n",
    "print('{}\\n{}\\n{}\\n'.format(hn[0],hn[1],hn[2]))"
   ]
  },
  {
   "cell_type": "code",
   "execution_count": 3,
   "metadata": {},
   "outputs": [],
   "source": [
    "# Zeroth row includes the column headers, separate to its own variable\n",
    "headers = hn[0]\n",
    "hn = hn[1:]"
   ]
  },
  {
   "cell_type": "markdown",
   "metadata": {},
   "source": [
    "### 0.2 Filter Data\n",
    "\n",
    "Since we are only concerned with posts beginning with \"Ask HN\" or \"Show HN\", we will separate the dataset into 3 tables: Ask HN posts, Show HN posts, other posts."
   ]
  },
  {
   "cell_type": "code",
   "execution_count": 4,
   "metadata": {},
   "outputs": [
    {
     "name": "stdout",
     "output_type": "stream",
     "text": [
      "Ask HN posts: 1744\n",
      "Show HN posts: 1162\n",
      "Other HN posts: 17194\n"
     ]
    }
   ],
   "source": [
    "ask_posts, show_posts, other_posts = [], [], []\n",
    "for post in hn:\n",
    "    title = post[1].lower()\n",
    "    if title.startswith('ask hn'):\n",
    "        ask_posts.append(post)\n",
    "    elif title.startswith('show hn'):\n",
    "        show_posts.append(post)\n",
    "    else:\n",
    "        other_posts.append(post)\n",
    "print('{} posts: {}'.format('Ask HN',len(ask_posts)))\n",
    "print('{} posts: {}'.format('Show HN',len(show_posts)))\n",
    "print('{} posts: {}'.format('Other HN',len(other_posts)))"
   ]
  },
  {
   "cell_type": "markdown",
   "metadata": {},
   "source": [
    "Apparently we are looking at approximately 14% of Hacker News posts overall. However, it is worth noting that the data we are looking at is split 40% to 60% rather than there existing a majority of Ask HN or Show HN posts."
   ]
  },
  {
   "cell_type": "markdown",
   "metadata": {},
   "source": [
    "## 1.0 Post Metrics\n",
    "\n",
    "### 1.1 Comment Numbers"
   ]
  },
  {
   "cell_type": "code",
   "execution_count": 5,
   "metadata": {},
   "outputs": [
    {
     "name": "stdout",
     "output_type": "stream",
     "text": [
      "Total Ask HN post comments: 24483\n",
      "Average comment count per Ask HN post: 14\n"
     ]
    }
   ],
   "source": [
    "total_ask_comments = 0\n",
    "for post in ask_posts:\n",
    "    total_ask_comments += int(post[4])\n",
    "print('Total Ask HN post comments:',total_ask_comments)\n",
    "avg_ask_comments = round(total_ask_comments / len(ask_posts))\n",
    "print('Average comment count per Ask HN post:',avg_ask_comments)"
   ]
  },
  {
   "cell_type": "code",
   "execution_count": 6,
   "metadata": {},
   "outputs": [
    {
     "name": "stdout",
     "output_type": "stream",
     "text": [
      "Total Show HN post comments: 11988\n",
      "Average comment count per Show HN post: 10\n"
     ]
    }
   ],
   "source": [
    "total_show_comments = 0\n",
    "for post in show_posts:\n",
    "    total_show_comments += int(post[4])\n",
    "print('Total Show HN post comments:',total_show_comments)\n",
    "avg_show_comments = round(total_show_comments / len(show_posts))\n",
    "print('Average comment count per Show HN post:',avg_show_comments)"
   ]
  },
  {
   "cell_type": "markdown",
   "metadata": {},
   "source": [
    "So on average, Ask HN posts have 4 more comments than Show HN posts. This is not too surprising. There are only so many unique ways to respond to a post showing something, whereas asking a question to the community opens the door for more varied response. Why not look at the points average too?"
   ]
  },
  {
   "cell_type": "markdown",
   "metadata": {},
   "source": [
    "### 1.2 Point Numbers"
   ]
  },
  {
   "cell_type": "code",
   "execution_count": 7,
   "metadata": {},
   "outputs": [],
   "source": [
    "def get_post_points_avg(posts):\n",
    "    avg_points = 0\n",
    "    for post in posts:\n",
    "        avg_points += int(post[3])\n",
    "    avg_points /= len(posts)\n",
    "    return avg_points"
   ]
  },
  {
   "cell_type": "code",
   "execution_count": 8,
   "metadata": {},
   "outputs": [
    {
     "name": "stdout",
     "output_type": "stream",
     "text": [
      "Average comment count per Ask HN post: 15\n",
      "Average comment count per Show HN post: 28\n"
     ]
    }
   ],
   "source": [
    "avg_ask_points = round(get_post_points_avg(ask_posts))\n",
    "avg_show_points = round(get_post_points_avg(show_posts))\n",
    "print('Average comment count per Ask HN post:',avg_ask_points)\n",
    "print('Average comment count per Show HN post:',avg_show_points)"
   ]
  },
  {
   "cell_type": "markdown",
   "metadata": {},
   "source": [
    "Again, not surprising. People casually browsing social media are probably more likely to engage at looking at something interesting rather than engage at some discussion, and the number of points for a post is related to its viewership."
   ]
  },
  {
   "cell_type": "markdown",
   "metadata": {},
   "source": [
    "## 2.0 Effect of Time of Day\n",
    "\n",
    "Focusing on the posts identified with the most comments, Ask HN posts, we will look at how the time of post creation affects how many comments are made. \n",
    "\n",
    "Hypothetically, more comments will be present on posts created when community members are finished work. Assuming a 9-5 work schedule, afternoon Eastern Time seems a likely high point since it averages the time zones of Western Europe and America (and it is simply speculation that community members are are located in these regions).\n",
    "\n",
    "### 2.1 Comments vs Time of Day"
   ]
  },
  {
   "cell_type": "code",
   "execution_count": 9,
   "metadata": {},
   "outputs": [],
   "source": [
    "# Extract the target columns from the dataset\n",
    "result_list = []\n",
    "for post in ask_posts:\n",
    "    created_at = post[6]\n",
    "    comments = int(post[4])\n",
    "    result_list.append([created_at,comments])"
   ]
  },
  {
   "cell_type": "code",
   "execution_count": 10,
   "metadata": {},
   "outputs": [],
   "source": [
    "# Process result_list, make tables for posts and comments by hour\n",
    "counts_by_hour, comments_by_hour = {}, {}\n",
    "for post in result_list:\n",
    "    dt_created = dt.datetime.strptime(post[0], '%m/%d/%Y %H:%M')\n",
    "    if dt_created.hour in counts_by_hour:\n",
    "        counts_by_hour[dt_created.hour] += 1\n",
    "        comments_by_hour[dt_created.hour] += post[1]\n",
    "    else:\n",
    "        counts_by_hour[dt_created.hour] = 1\n",
    "        comments_by_hour[dt_created.hour] = post[1]"
   ]
  },
  {
   "cell_type": "code",
   "execution_count": 11,
   "metadata": {},
   "outputs": [
    {
     "name": "stdout",
     "output_type": "stream",
     "text": [
      "Average comments for 00:00 to 00:59 posts: 8\n",
      "Average comments for 01:00 to 01:59 posts: 11\n",
      "Average comments for 02:00 to 02:59 posts: 24\n",
      "Average comments for 03:00 to 03:59 posts: 8\n",
      "Average comments for 04:00 to 04:59 posts: 7\n",
      "Average comments for 05:00 to 05:59 posts: 10\n",
      "Average comments for 06:00 to 06:59 posts: 9\n",
      "Average comments for 07:00 to 07:59 posts: 8\n",
      "Average comments for 08:00 to 08:59 posts: 10\n",
      "Average comments for 09:00 to 09:59 posts: 6\n",
      "Average comments for 10:00 to 10:59 posts: 13\n",
      "Average comments for 11:00 to 11:59 posts: 11\n",
      "Average comments for 12:00 to 12:59 posts: 9\n",
      "Average comments for 13:00 to 13:59 posts: 15\n",
      "Average comments for 14:00 to 14:59 posts: 13\n",
      "Average comments for 15:00 to 15:59 posts: 39\n",
      "Average comments for 16:00 to 16:59 posts: 17\n",
      "Average comments for 17:00 to 17:59 posts: 11\n",
      "Average comments for 18:00 to 18:59 posts: 13\n",
      "Average comments for 19:00 to 19:59 posts: 11\n",
      "Average comments for 20:00 to 20:59 posts: 22\n",
      "Average comments for 21:00 to 21:59 posts: 16\n",
      "Average comments for 22:00 to 22:59 posts: 7\n",
      "Average comments for 23:00 to 23:59 posts: 8\n"
     ]
    }
   ],
   "source": [
    "# Combine these two tables for average comments per post per hour\n",
    "# Note: this code diverts from Dataquest, because it's better\n",
    "avg_by_hour = [[h,0] for h in range(0,24)]\n",
    "disp_text = 'Average comments for {h:02}:00 to {h:02}:59 posts: {c}'\n",
    "for hour_data in avg_by_hour:\n",
    "    h = hour_data[0]\n",
    "    hour_data[1] = round(comments_by_hour[h] / counts_by_hour[h])\n",
    "    print(disp_text.format(h=h,c=hour_data[1]))"
   ]
  },
  {
   "cell_type": "markdown",
   "metadata": {},
   "source": [
    "It is plain to see that the top times when most comments are made as as follows:\n",
    "1. Between 3pm and 4pm\n",
    "2. Between 2am and 3am\n",
    "3. Between 8pm and 9pm\n",
    "4. Between 4pm and 5pm\n",
    "5. Between 9pm and 10pm\n",
    "\n",
    "According to the dataset, these times are in Eastern Time. We hypothesized that afternoon post times in Eastern Time would receive the most comments. While this is apparent in the dataset's top ranks, it does not justify the second top timeslot of 2-3am so let's investigate this."
   ]
  },
  {
   "cell_type": "markdown",
   "metadata": {},
   "source": [
    "### 2.2 High Comment Average Between 2am-3am"
   ]
  },
  {
   "cell_type": "code",
   "execution_count": 12,
   "metadata": {},
   "outputs": [
    {
     "name": "stdout",
     "output_type": "stream",
     "text": [
      "(Posts, Comments) from 00:00 to 00:59: (55, 447)\n",
      "(Posts, Comments) from 01:00 to 01:59: (60, 683)\n",
      "(Posts, Comments) from 02:00 to 02:59: (58, 1381)\n",
      "(Posts, Comments) from 03:00 to 03:59: (54, 421)\n",
      "(Posts, Comments) from 04:00 to 04:59: (47, 337)\n",
      "(Posts, Comments) from 05:00 to 05:59: (46, 464)\n",
      "(Posts, Comments) from 06:00 to 06:59: (44, 397)\n",
      "(Posts, Comments) from 07:00 to 07:59: (34, 267)\n",
      "(Posts, Comments) from 08:00 to 08:59: (48, 492)\n",
      "(Posts, Comments) from 09:00 to 09:59: (45, 251)\n",
      "(Posts, Comments) from 10:00 to 10:59: (59, 793)\n",
      "(Posts, Comments) from 11:00 to 11:59: (58, 641)\n",
      "(Posts, Comments) from 12:00 to 12:59: (73, 687)\n",
      "(Posts, Comments) from 13:00 to 13:59: (85, 1253)\n",
      "(Posts, Comments) from 14:00 to 14:59: (107, 1416)\n",
      "(Posts, Comments) from 15:00 to 15:59: (116, 4477)\n",
      "(Posts, Comments) from 16:00 to 16:59: (108, 1814)\n",
      "(Posts, Comments) from 17:00 to 17:59: (100, 1146)\n",
      "(Posts, Comments) from 18:00 to 18:59: (109, 1439)\n",
      "(Posts, Comments) from 19:00 to 19:59: (110, 1188)\n",
      "(Posts, Comments) from 20:00 to 20:59: (80, 1722)\n",
      "(Posts, Comments) from 21:00 to 21:59: (109, 1745)\n",
      "(Posts, Comments) from 22:00 to 22:59: (71, 479)\n",
      "(Posts, Comments) from 23:00 to 23:59: (68, 543)\n"
     ]
    }
   ],
   "source": [
    "disp_text = '(Posts, Comments) from {h:02}:00 to {h:02}:59: ({p}, {c})'\n",
    "for hour in range(24):\n",
    "    print(disp_text.format(h=hour,p=counts_by_hour[hour],c=comments_by_hour[hour]))"
   ]
  },
  {
   "cell_type": "markdown",
   "metadata": {},
   "source": [
    "So the number of posts is not significantly different in the hours around 2am Eastern Time, they apparently receive many more comments though. Perhaps this discontinuity in comments can be explained by looking at the types of posts made at this time. For example, if they are for people of a culture/country who happen to end their 5pm at that time, it would make more sense. Alternatively, some media be released regularly at this time; or there are any number of other reasons. Start by looking at the 2am posts."
   ]
  },
  {
   "cell_type": "code",
   "execution_count": 13,
   "metadata": {},
   "outputs": [
    {
     "name": "stdout",
     "output_type": "stream",
     "text": [
      "02:47 post, 3 comments: Ask HN: $500k revenue business  Shopify vs. Custom website?\n",
      "02:05 post, 22 comments: Ask HN: Critique my biz idea  local.menu the next Airbnb\n",
      "02:36 post, 30 comments: Ask HN: Settle for less salary or change to make more in prime years\n",
      "02:30 post, 7 comments: Ask HN: Your advise wanted for how to get into programming\n",
      "02:34 post, 15 comments: Ask HN: Client is bullying for refund since beginning\n",
      "02:41 post, 1 comments: Ask HN: Has Dropbox been compromised recently?\n",
      "02:02 post, 8 comments: Ask HN: Declarative database migrations?\n",
      "02:33 post, 4 comments: Ask HN: How can you work at a desk all day?\n",
      "02:53 post, 4 comments: Ask HN: How to work fewer hours?\n",
      "02:17 post, 11 comments: Ask HN: Electrical Eng. PhD, Thinking of Moving to Programming Jobs. Worth It?\n",
      "02:21 post, 11 comments: Ask HN: Should I build an airline booking system?\n",
      "02:23 post, 8 comments: Ask HN: Cheap databases for new projects?\n",
      "02:24 post, 41 comments: Ask HN: The best app to keep a work diary\n",
      "02:34 post, 12 comments: Ask HN: Do I choose a few team members or lose our only investor?\n",
      "02:50 post, 6 comments: Ask HN: What do you guys think about Shark Tank (the TV program from abc)?\n",
      "02:57 post, 5 comments: Ask HN: Who will GitHub acquire?\n",
      "02:44 post, 1 comments: Ask HN: How do I hire for jobs I'm not an expert in?\n",
      "02:36 post, 15 comments: Ask HN: Is it okay to change jobs within a year of starting?\n",
      "02:51 post, 1 comments: Ask HN: Alternatives to Credit Rating Agency Cartel\n",
      "02:39 post, 1 comments: Ask HN: Anyone from Malaysia on HN?\n",
      "02:17 post, 6 comments: Ask HN: How well are 4k monitors supported under Linux?\n",
      "02:25 post, 2 comments: Ask HN: New OS X Calculator?\n",
      "02:52 post, 2 comments: Ask HN: What was your eureka moment while programming?\n",
      "02:40 post, 1 comments: Ask HN: What is your advise to move up the ladder?  Any anecdotes?\n",
      "02:58 post, 31 comments: Ask HN: Where are 150k to 200k salary job in Silicon Valley?\n",
      "02:35 post, 2 comments: Ask HN: Freelancing tips\n",
      "02:42 post, 2 comments: Ask HN: What's the best platform for E-Commerce?\n",
      "02:36 post, 6 comments: Ask HN: Websites/Services like nugget.one\n",
      "02:37 post, 7 comments: Ask HN: How do I become a Sales Engineer?\n",
      "02:22 post, 101 comments: Ask HN: How can I tell if I have programming aptitude?\n",
      "02:15 post, 4 comments: Ask HN: Looking for a technical interview coach\n",
      "02:36 post, 6 comments: Ask HN: Middle of project, side project raised money, what do I do?\n",
      "02:42 post, 7 comments: Ask HN: How creepy are Google and Facebook wireless?\n",
      "02:06 post, 25 comments: Ask HN: Real odds of making a living off a web app\n",
      "02:19 post, 1 comments: Ask HN: What's your favorite outline editor which supports Markdown?\n",
      "02:08 post, 8 comments: Ask HN: Good resources for new immigrants on how to settle?\n",
      "02:50 post, 8 comments: Ask HN: Do I really hear my CPU/GPU or am I getting crazy?\n",
      "02:31 post, 1 comments: Ask HN: What is that code snippet / command that you Google every single time?\n",
      "02:13 post, 6 comments: Ask HN: How do you build a service?\n",
      "02:37 post, 3 comments: Ask HN: Non-localized email addresses OK?\n",
      "02:07 post, 1 comments: Ask HN: How long did it take you to launch?\n",
      "02:19 post, 4 comments: Ask HN: Is there enough video content out there today to learn cs & programming?\n",
      "02:16 post, 1 comments: Ask HN: What Is the Best Way to Tune Hyper Parameters for a Deep Neural Network?\n",
      "02:57 post, 4 comments: Ask HN: Tiling Window Manager for Windows?\n",
      "02:17 post, 20 comments: Ask HN: What is your viable aka money making startup or side project idea?\n",
      "02:16 post, 1 comments: Ask HN: Is hacker news now responsive?\n",
      "02:30 post, 9 comments: Ask HN: I'm an SDE1 at Amazon. Is no compensation adjustment this year typical?\n",
      "02:43 post, 1 comments: Ask HN: What is your advice/comments on \"publish or perish\" culture in academia?\n",
      "02:49 post, 5 comments: Ask HN: What are annoying software processes that should be automated?\n",
      "02:58 post, 4 comments: Ask HN: Should I finish my undergraduate degree?\n",
      "02:21 post, 2 comments: Ask HN: OO book for old Python hacker?\n",
      "02:43 post, 4 comments: Ask HN: What Open Source projects do you wish existed or were still maintained?\n",
      "02:17 post, 1 comments: Ask HN: Do you miss the points showing next to comments?\n",
      "02:03 post, 2 comments: Ask HN: What has the highest cost per megabyte?\n",
      "02:23 post, 12 comments: Ask HN: Good Parse alternatives?\n",
      "02:57 post, 1 comments: Ask HN: Does having no appraisal policy make a company bad for career?\n",
      "02:07 post, 868 comments: Ask HN: What's the best tool you used to use that doesn't exist anymore?\n",
      "02:19 post, 6 comments: Ask HN: What are your startup ideas that you aren't pursuing?\n"
     ]
    }
   ],
   "source": [
    "# 2am posts\n",
    "post_intro = '{h:02}:{m:02} post, {c} comments: {t}'\n",
    "for post in ask_posts:\n",
    "    dt_created = dt.datetime.strptime(post[6], '%m/%d/%Y %H:%M')\n",
    "    if dt_created.hour == 2:\n",
    "        print(post_intro.format(h=dt_created.hour,m=dt_created.minute,\\\n",
    "                                c=int(post[4]),t=post[1]))"
   ]
  },
  {
   "cell_type": "markdown",
   "metadata": {},
   "source": [
    "The second last post in the above printout has 868 comments! Without this post, Ask HN posts occurring between 2am to 3am have 1381-868=513 comments, which is much closer in-line with the number of comment data for other hours. The 868-comment post can be found [here](https://news.ycombinator.com/item?id=11694277). Looking at some of the top comments, we can see that they are made throughout the day and not just shortly after 2am, and some follow-up responses are made days later. It seems that this general question trended to the HN community, rather than following in-line with a hypothesis about posts of a particular nature being made around the 2am time."
   ]
  }
 ],
 "metadata": {
  "kernelspec": {
   "display_name": "Python 3",
   "language": "python",
   "name": "python3"
  },
  "language_info": {
   "codemirror_mode": {
    "name": "ipython",
    "version": 3
   },
   "file_extension": ".py",
   "mimetype": "text/x-python",
   "name": "python",
   "nbconvert_exporter": "python",
   "pygments_lexer": "ipython3",
   "version": "3.8.5"
  }
 },
 "nbformat": 4,
 "nbformat_minor": 4
}
