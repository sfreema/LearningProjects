{
 "cells": [
  {
   "cell_type": "markdown",
   "metadata": {},
   "source": [
    "# Finding Heavy Traffic Indicators on I-94 Guided Project\n",
    "\n",
    "This project will focus on applying data visualization knowledge using matplotlib and seaborn to analyze a traffic dataset for correlations of traffic heaviness and other variables.\n",
    "\n",
    "The dataset used here contains 2012-2018 westbound [I-94 highway](https://en.wikipedia.org/wiki/Interstate_94) traffic, was compiled by [John Hogue](john.d.hogue@live.com) of General Mills and Social Data Science, and can be found [here](https://archive.ics.uci.edu/ml/datasets/Metro+Interstate+Traffic+Volume). Traffic data is captured on the hour from the automatic traffic recorder (ATR) station 301 that is located roughly between Minneapolis and St Paul, MN. See the following map of the location:\n",
    "\n",
    "![Station_301_Region](station_301_region.png)\n",
    "\n",
    "Deviations from Dataquest's instructions are not always noted within the notebook, but steps are made to go beyond the focus of the project.\n",
    "\n",
    "Sections:\n",
    "\n",
    "[0.0 Importing Data, Quick Peek](#0.0-Importing-Data,-Quick-Peek) <br>\n",
    "\n",
    "[2.0 Data Exploration](#2.0-Data-Exploration) <br>\n",
    "[2.1 Traffic Distribution](#2.1-Traffic-Distribution) <br>\n",
    "[2.2 Investigating Time of Day](#2.2-Investigating-Time-of-Day) <br>\n",
    "[2.3 Variables Affecting Day Time Traffic](#2.3-Variables-Affecting-Day-Time-Traffic) <br>\n",
    "\n",
    "---"
   ]
  },
  {
   "cell_type": "code",
   "execution_count": 1,
   "metadata": {},
   "outputs": [],
   "source": [
    "# imports\n",
    "import pandas as pd\n",
    "import matplotlib.pyplot as plt\n",
    "%matplotlib inline\n",
    "import seaborn as sbn"
   ]
  },
  {
   "cell_type": "markdown",
   "metadata": {},
   "source": [
    "## 0.0 Importing Data, Quick Peek"
   ]
  },
  {
   "cell_type": "code",
   "execution_count": 2,
   "metadata": {},
   "outputs": [],
   "source": [
    "traffic = pd.read_csv('Metro_Interstate_Traffic_Volume.csv')"
   ]
  },
  {
   "cell_type": "code",
   "execution_count": 3,
   "metadata": {},
   "outputs": [
    {
     "name": "stdout",
     "output_type": "stream",
     "text": [
      "<class 'pandas.core.frame.DataFrame'>\n",
      "RangeIndex: 48204 entries, 0 to 48203\n",
      "Data columns (total 9 columns):\n",
      " #   Column               Non-Null Count  Dtype  \n",
      "---  ------               --------------  -----  \n",
      " 0   holiday              48204 non-null  object \n",
      " 1   temp                 48204 non-null  float64\n",
      " 2   rain_1h              48204 non-null  float64\n",
      " 3   snow_1h              48204 non-null  float64\n",
      " 4   clouds_all           48204 non-null  int64  \n",
      " 5   weather_main         48204 non-null  object \n",
      " 6   weather_description  48204 non-null  object \n",
      " 7   date_time            48204 non-null  object \n",
      " 8   traffic_volume       48204 non-null  int64  \n",
      "dtypes: float64(3), int64(2), object(4)\n",
      "memory usage: 3.3+ MB\n"
     ]
    }
   ],
   "source": [
    "traffic.info()"
   ]
  },
  {
   "cell_type": "markdown",
   "metadata": {},
   "source": [
    "Fortunately there are no null values, and data with just another quick look at the data, we can determine whether/how much cleaning is necessary."
   ]
  },
  {
   "cell_type": "code",
   "execution_count": 4,
   "metadata": {},
   "outputs": [
    {
     "data": {
      "text/html": [
       "<div>\n",
       "<style scoped>\n",
       "    .dataframe tbody tr th:only-of-type {\n",
       "        vertical-align: middle;\n",
       "    }\n",
       "\n",
       "    .dataframe tbody tr th {\n",
       "        vertical-align: top;\n",
       "    }\n",
       "\n",
       "    .dataframe thead th {\n",
       "        text-align: right;\n",
       "    }\n",
       "</style>\n",
       "<table border=\"1\" class=\"dataframe\">\n",
       "  <thead>\n",
       "    <tr style=\"text-align: right;\">\n",
       "      <th></th>\n",
       "      <th>holiday</th>\n",
       "      <th>temp</th>\n",
       "      <th>rain_1h</th>\n",
       "      <th>snow_1h</th>\n",
       "      <th>clouds_all</th>\n",
       "      <th>weather_main</th>\n",
       "      <th>weather_description</th>\n",
       "      <th>date_time</th>\n",
       "      <th>traffic_volume</th>\n",
       "    </tr>\n",
       "  </thead>\n",
       "  <tbody>\n",
       "    <tr>\n",
       "      <th>0</th>\n",
       "      <td>None</td>\n",
       "      <td>288.28</td>\n",
       "      <td>0.0</td>\n",
       "      <td>0.0</td>\n",
       "      <td>40</td>\n",
       "      <td>Clouds</td>\n",
       "      <td>scattered clouds</td>\n",
       "      <td>2012-10-02 09:00:00</td>\n",
       "      <td>5545</td>\n",
       "    </tr>\n",
       "    <tr>\n",
       "      <th>1</th>\n",
       "      <td>None</td>\n",
       "      <td>289.36</td>\n",
       "      <td>0.0</td>\n",
       "      <td>0.0</td>\n",
       "      <td>75</td>\n",
       "      <td>Clouds</td>\n",
       "      <td>broken clouds</td>\n",
       "      <td>2012-10-02 10:00:00</td>\n",
       "      <td>4516</td>\n",
       "    </tr>\n",
       "    <tr>\n",
       "      <th>2</th>\n",
       "      <td>None</td>\n",
       "      <td>289.58</td>\n",
       "      <td>0.0</td>\n",
       "      <td>0.0</td>\n",
       "      <td>90</td>\n",
       "      <td>Clouds</td>\n",
       "      <td>overcast clouds</td>\n",
       "      <td>2012-10-02 11:00:00</td>\n",
       "      <td>4767</td>\n",
       "    </tr>\n",
       "    <tr>\n",
       "      <th>3</th>\n",
       "      <td>None</td>\n",
       "      <td>290.13</td>\n",
       "      <td>0.0</td>\n",
       "      <td>0.0</td>\n",
       "      <td>90</td>\n",
       "      <td>Clouds</td>\n",
       "      <td>overcast clouds</td>\n",
       "      <td>2012-10-02 12:00:00</td>\n",
       "      <td>5026</td>\n",
       "    </tr>\n",
       "    <tr>\n",
       "      <th>4</th>\n",
       "      <td>None</td>\n",
       "      <td>291.14</td>\n",
       "      <td>0.0</td>\n",
       "      <td>0.0</td>\n",
       "      <td>75</td>\n",
       "      <td>Clouds</td>\n",
       "      <td>broken clouds</td>\n",
       "      <td>2012-10-02 13:00:00</td>\n",
       "      <td>4918</td>\n",
       "    </tr>\n",
       "  </tbody>\n",
       "</table>\n",
       "</div>"
      ],
      "text/plain": [
       "  holiday    temp  rain_1h  snow_1h  clouds_all weather_main  \\\n",
       "0    None  288.28      0.0      0.0          40       Clouds   \n",
       "1    None  289.36      0.0      0.0          75       Clouds   \n",
       "2    None  289.58      0.0      0.0          90       Clouds   \n",
       "3    None  290.13      0.0      0.0          90       Clouds   \n",
       "4    None  291.14      0.0      0.0          75       Clouds   \n",
       "\n",
       "  weather_description            date_time  traffic_volume  \n",
       "0    scattered clouds  2012-10-02 09:00:00            5545  \n",
       "1       broken clouds  2012-10-02 10:00:00            4516  \n",
       "2     overcast clouds  2012-10-02 11:00:00            4767  \n",
       "3     overcast clouds  2012-10-02 12:00:00            5026  \n",
       "4       broken clouds  2012-10-02 13:00:00            4918  "
      ]
     },
     "execution_count": 4,
     "metadata": {},
     "output_type": "execute_result"
    }
   ],
   "source": [
    "traffic.head()"
   ]
  },
  {
   "cell_type": "markdown",
   "metadata": {},
   "source": [
    "- The **holiday** column describes a US national holiday or a regional holiday (ie in Minnesota), and is described from the repo as categorical, but it's not clear what this data looks like based on the above\n",
    "- Temperature (**temp**) is in Kelvin\n",
    "- It's not entirely clear what **clouds_all** refers to without the legend from the dataset repository, but the numbers here are percentages. The column name will be updated to reflect this:"
   ]
  },
  {
   "cell_type": "code",
   "execution_count": 5,
   "metadata": {},
   "outputs": [],
   "source": [
    "traffic.rename(columns={'clouds_all':'clouds_percent'}, inplace=True)"
   ]
  },
  {
   "cell_type": "markdown",
   "metadata": {},
   "source": [
    "Next just perform a quick check of the **holiday** data to see how it looks:"
   ]
  },
  {
   "cell_type": "code",
   "execution_count": 6,
   "metadata": {},
   "outputs": [
    {
     "data": {
      "text/plain": [
       "None                         48143\n",
       "Labor Day                        7\n",
       "Thanksgiving Day                 6\n",
       "New Years Day                    6\n",
       "Christmas Day                    6\n",
       "Martin Luther King Jr Day        6\n",
       "Veterans Day                     5\n",
       "Columbus Day                     5\n",
       "Independence Day                 5\n",
       "Memorial Day                     5\n",
       "Washingtons Birthday             5\n",
       "State Fair                       5\n",
       "Name: holiday, dtype: int64"
      ]
     },
     "execution_count": 6,
     "metadata": {},
     "output_type": "execute_result"
    }
   ],
   "source": [
    "traffic['holiday'].value_counts()"
   ]
  },
  {
   "cell_type": "markdown",
   "metadata": {},
   "source": [
    "Ok, so there are several holidays occurring within the dates surveyed. Curiously there are less than 24 hours per holiday identified in the **holiday** column... Given the 2012-2018 data survey, it seems that the holiday column may identify the occurrence of a holiday once per year rather than 24 times per year. FIXME: for more investigation."
   ]
  },
  {
   "cell_type": "markdown",
   "metadata": {},
   "source": [
    "## 2.0 Data Exploration\n",
    "\n",
    "### 2.1 Traffic Distribution"
   ]
  },
  {
   "cell_type": "code",
   "execution_count": 93,
   "metadata": {},
   "outputs": [
    {
     "data": {
      "image/png": "[encoded data removed]",
      "text/plain": [
       "<Figure size 432x288 with 1 Axes>"
      ]
     },
     "metadata": {
      "needs_background": "light"
     },
     "output_type": "display_data"
    }
   ],
   "source": [
    "plt.hist(traffic['traffic_volume'],bins=50)\n",
    "plt.xlim([0,7500])\n",
    "plt.ylim([0,4000])\n",
    "plt.ylabel('Count')\n",
    "plt.title('Traffic Volume Histogram')\n",
    "plt.show()"
   ]
  },
  {
   "cell_type": "markdown",
   "metadata": {},
   "source": [
    "Clearly the distribution is at least trimodal with peaks around:\n",
    "- 500, little to no traffic\n",
    "- 3000. I am not yet certain what this is. I believe it may be weekend commuter traffic, weekday traffic reduced by weather and/or season, or, though unlikely, holiday traffic.\n",
    "- 5000 and above. This is likely weekday heavy traffic from commuters due to the high frequency \n",
    "\n",
    "We will probably investigate all of these."
   ]
  },
  {
   "cell_type": "markdown",
   "metadata": {},
   "source": [
    "### 2.2 Investigating Time of Day\n",
    "\n",
    "Of the many variables that influence the traffic distribution, time of day is one that we can look at. We will simply split the 24-hour period to identify day and night as follows:\n",
    "- Day is from 7am to 7pm\n",
    "- Night is from 7pm to 7am\n",
    "\n",
    "So let's start by spliting the data in this fashion. In order to do this, first convert the **date_time** values to datetime objects:"
   ]
  },
  {
   "cell_type": "code",
   "execution_count": 21,
   "metadata": {},
   "outputs": [],
   "source": [
    "traffic['date_time'] = pd.to_datetime(traffic['date_time'])"
   ]
  },
  {
   "cell_type": "code",
   "execution_count": 67,
   "metadata": {},
   "outputs": [],
   "source": [
    "# Now split the data\n",
    "\n",
    "day_time = traffic[traffic['date_time'].dt.hour.between(6,19,inclusive=False)]\n",
    "night_time = traffic[~traffic['date_time'].dt.hour.between(6,19,inclusive=False)]"
   ]
  },
  {
   "cell_type": "code",
   "execution_count": 72,
   "metadata": {},
   "outputs": [
    {
     "data": {
      "image/png": "[encoded data removed]",
      "text/plain": [
       "<Figure size 864x288 with 2 Axes>"
      ]
     },
     "metadata": {
      "needs_background": "light"
     },
     "output_type": "display_data"
    }
   ],
   "source": [
    "plt.figure(figsize=(12,4))\n",
    "plt.subplot(1,2,1)\n",
    "plt.hist(day_time['traffic_volume'],bins=50)\n",
    "plt.xlim([0,7500])\n",
    "plt.ylim([0,4000])\n",
    "plt.ylabel('Count')\n",
    "plt.title('Day Time Traffic Volume')\n",
    "plt.subplot(1,2,2)\n",
    "plt.hist(night_time['traffic_volume'],bins=50)\n",
    "plt.xlim([0,7500])\n",
    "plt.ylim([0,4000])\n",
    "plt.title('Night Time Traffic Volume')\n",
    "plt.show()"
   ]
  },
  {
   "cell_type": "code",
   "execution_count": 83,
   "metadata": {},
   "outputs": [
    {
     "data": {
      "text/html": [
       "<div>\n",
       "<style scoped>\n",
       "    .dataframe tbody tr th:only-of-type {\n",
       "        vertical-align: middle;\n",
       "    }\n",
       "\n",
       "    .dataframe tbody tr th {\n",
       "        vertical-align: top;\n",
       "    }\n",
       "\n",
       "    .dataframe thead th {\n",
       "        text-align: right;\n",
       "    }\n",
       "</style>\n",
       "<table border=\"1\" class=\"dataframe\">\n",
       "  <thead>\n",
       "    <tr style=\"text-align: right;\">\n",
       "      <th></th>\n",
       "      <th>Day Traffic Volume</th>\n",
       "      <th>Night Traffic Volume</th>\n",
       "    </tr>\n",
       "  </thead>\n",
       "  <tbody>\n",
       "    <tr>\n",
       "      <th>count</th>\n",
       "      <td>23877.000000</td>\n",
       "      <td>24327.000000</td>\n",
       "    </tr>\n",
       "    <tr>\n",
       "      <th>mean</th>\n",
       "      <td>4762.047452</td>\n",
       "      <td>1785.377441</td>\n",
       "    </tr>\n",
       "    <tr>\n",
       "      <th>std</th>\n",
       "      <td>1174.546482</td>\n",
       "      <td>1441.951197</td>\n",
       "    </tr>\n",
       "    <tr>\n",
       "      <th>min</th>\n",
       "      <td>0.000000</td>\n",
       "      <td>0.000000</td>\n",
       "    </tr>\n",
       "    <tr>\n",
       "      <th>25%</th>\n",
       "      <td>4252.000000</td>\n",
       "      <td>530.000000</td>\n",
       "    </tr>\n",
       "    <tr>\n",
       "      <th>50%</th>\n",
       "      <td>4820.000000</td>\n",
       "      <td>1287.000000</td>\n",
       "    </tr>\n",
       "    <tr>\n",
       "      <th>75%</th>\n",
       "      <td>5559.000000</td>\n",
       "      <td>2819.000000</td>\n",
       "    </tr>\n",
       "    <tr>\n",
       "      <th>max</th>\n",
       "      <td>7280.000000</td>\n",
       "      <td>6386.000000</td>\n",
       "    </tr>\n",
       "  </tbody>\n",
       "</table>\n",
       "</div>"
      ],
      "text/plain": [
       "       Day Traffic Volume  Night Traffic Volume\n",
       "count        23877.000000          24327.000000\n",
       "mean          4762.047452           1785.377441\n",
       "std           1174.546482           1441.951197\n",
       "min              0.000000              0.000000\n",
       "25%           4252.000000            530.000000\n",
       "50%           4820.000000           1287.000000\n",
       "75%           5559.000000           2819.000000\n",
       "max           7280.000000           6386.000000"
      ]
     },
     "execution_count": 83,
     "metadata": {},
     "output_type": "execute_result"
    }
   ],
   "source": [
    "day_night_comp = pd.DataFrame({'Day Traffic Volume':day_time['traffic_volume'].describe(),\n",
    "                              'Night Traffic Volume':night_time['traffic_volume'].describe()})\n",
    "day_night_comp"
   ]
  },
  {
   "cell_type": "markdown",
   "metadata": {},
   "source": [
    "Clearly the latter peak around 5000 is from day time driving (as it has been defined here). This peak itself appears to be made up of one centered on 5000, and another centered on 6000. The 6000 traffic volume bump is present in both day and night time driving and may heavy traffic due to car accidents or road work that may be occurring at any time of day.\n",
    "\n",
    "Covneniently, the 0 and 3000 traffic volume peaks are present in only the night time driving histogram. Again, it is not entirely clear what the 3000 histogram peak refers to, but perhaps this is simply night work commuters. Let's do a simple check of this by further narrowing the night time data to 9pm to 3am:"
   ]
  },
  {
   "cell_type": "code",
   "execution_count": 95,
   "metadata": {},
   "outputs": [],
   "source": [
    "midnight_run = traffic[~traffic['date_time'].dt.hour.between(3,21,inclusive=False)]\n",
    "evening_commuters = traffic[traffic['date_time'].dt.hour.between(4,6,inclusive=True) |\n",
    "                            traffic['date_time'].dt.hour.between(19,20,inclusive=True)]"
   ]
  },
  {
   "cell_type": "code",
   "execution_count": 99,
   "metadata": {},
   "outputs": [
    {
     "data": {
      "image/png": "[encoded data removed]",
      "text/plain": [
       "<Figure size 864x288 with 2 Axes>"
      ]
     },
     "metadata": {
      "needs_background": "light"
     },
     "output_type": "display_data"
    }
   ],
   "source": [
    "plt.figure(figsize=(12,4))\n",
    "plt.subplot(1,2,1)\n",
    "plt.hist(midnight_run['traffic_volume'],bins=50)\n",
    "plt.xlim([0,7500])\n",
    "plt.ylim([0,4000])\n",
    "plt.ylabel('Count')\n",
    "plt.title('Late Night Traffic Volume')\n",
    "plt.subplot(1,2,2)\n",
    "plt.hist(evening_commuters['traffic_volume'],bins=50)\n",
    "plt.xlim([0,7500])\n",
    "plt.ylim([0,4000])\n",
    "plt.title('Early Morning/Evening Traffic Volume')\n",
    "plt.show()"
   ]
  },
  {
   "cell_type": "markdown",
   "metadata": {},
   "source": [
    "Indeed, the late night distribution is roughly decreasing towards higher traffic volumes. So isolating the early evening/morning times left out by this distribution does highlight the 3000 traffic volume peak.\n",
    "\n",
    "However, the ~6000 peak is absent in the late night distribution, somewhat contradicting the assertion that this peak is caused by accidents and/or road work. While this may be true, it is also possible that reduced load of traffic on the highway does cause traffic to build up (a question of traffic dynamics that I do not know the exact specifics of).\n",
    "\n",
    "Back to the task at hand of identifying indicators of heavy traffic, we should primarily focus on the daytime distribution isnce it contains the main high traffic peak around 5000. We will therefore continue with the day_time data only."
   ]
  },
  {
   "cell_type": "markdown",
   "metadata": {},
   "source": [
    "### 2.3 Variables Affecting Day Time Traffic"
   ]
  },
  {
   "cell_type": "markdown",
   "metadata": {},
   "source": [
    "We will specifically focus on how the month of year, day of week, and time of day affcet day time traffic. In doing so, we will explicitly add these variables to the dataset. Start with month:"
   ]
  },
  {
   "cell_type": "code",
   "execution_count": 100,
   "metadata": {},
   "outputs": [
    {
     "name": "stderr",
     "output_type": "stream",
     "text": [
      "<ipython-input-100-0d0913a858f7>:1: SettingWithCopyWarning: \n",
      "A value is trying to be set on a copy of a slice from a DataFrame.\n",
      "Try using .loc[row_indexer,col_indexer] = value instead\n",
      "\n",
      "See the caveats in the documentation: https://pandas.pydata.org/pandas-docs/stable/user_guide/indexing.html#returning-a-view-versus-a-copy\n",
      "  day_time['month'] = day_time['date_time'].dt.month\n"
     ]
    },
    {
     "data": {
      "text/plain": [
       "month\n",
       "1     4495.613727\n",
       "2     4711.198394\n",
       "3     4889.409560\n",
       "4     4906.894305\n",
       "5     4911.121609\n",
       "6     4898.019566\n",
       "7     4595.035744\n",
       "8     4928.302035\n",
       "9     4870.783145\n",
       "10    4921.234922\n",
       "11    4704.094319\n",
       "12    4374.834566\n",
       "Name: traffic_volume, dtype: float64"
      ]
     },
     "execution_count": 100,
     "metadata": {},
     "output_type": "execute_result"
    }
   ],
   "source": [
    "day_time['month'] = day_time['date_time'].dt.month\n",
    "by_month = day_time.groupby('month').mean()\n",
    "by_month['traffic_volume']"
   ]
  },
  {
   "cell_type": "code",
   "execution_count": 106,
   "metadata": {},
   "outputs": [
    {
     "data": {
      "image/png": "[encoded data removed]",
      "text/plain": [
       "<Figure size 432x288 with 1 Axes>"
      ]
     },
     "metadata": {
      "needs_background": "light"
     },
     "output_type": "display_data"
    }
   ],
   "source": [
    "plt.plot(by_month['traffic_volume'])\n",
    "plt.xlabel('Month')\n",
    "plt.ylabel('Traffic Volume')\n",
    "plt.title('Traffic Volume by Month')\n",
    "plt.show()"
   ]
  },
  {
   "cell_type": "markdown",
   "metadata": {},
   "source": [
    "So the traffic appears to increase during the summer/warmer months, with an odd exception of July when the traffic drops by 4600/4900 $\\approx$ 7% compared to months before and after. Apparently there was [road work](https://www.mlive.com/news/ann-arbor/2016/06/road_construction_projects_tha.html) on I-94 in July of 2016.\n",
    "\n",
    "Now move to day of week:"
   ]
  },
  {
   "cell_type": "code",
   "execution_count": 108,
   "metadata": {},
   "outputs": [
    {
     "name": "stderr",
     "output_type": "stream",
     "text": [
      "<ipython-input-108-82a6510d8c48>:1: SettingWithCopyWarning: \n",
      "A value is trying to be set on a copy of a slice from a DataFrame.\n",
      "Try using .loc[row_indexer,col_indexer] = value instead\n",
      "\n",
      "See the caveats in the documentation: https://pandas.pydata.org/pandas-docs/stable/user_guide/indexing.html#returning-a-view-versus-a-copy\n",
      "  day_time['day_of_week'] = day_time['date_time'].dt.dayofweek\n"
     ]
    },
    {
     "data": {
      "image/png": "[encoded data removed]",
      "text/plain": [
       "<Figure size 432x288 with 1 Axes>"
      ]
     },
     "metadata": {
      "needs_background": "light"
     },
     "output_type": "display_data"
    }
   ],
   "source": [
    "day_time['day_of_week'] = day_time['date_time'].dt.dayofweek\n",
    "by_weekday = day_time.groupby('day_of_week').mean()\n",
    "by_weekday['traffic_volume']\n",
    "\n",
    "plt.plot(by_weekday['traffic_volume'])\n",
    "plt.xlabel('Day of Week (0=Monday, 6=Sunday)')\n",
    "plt.ylabel('Traffic Volume')\n",
    "plt.title('Traffic Volume by Day of the Week')\n",
    "plt.show()"
   ]
  },
  {
   "cell_type": "markdown",
   "metadata": {},
   "source": [
    "Unsurprisingly traffic is minimal on Sunday, maximal on weekdays, and somewhat on minimal when people are going places to take advantage of time off from the traditional work week.\n",
    "\n",
    "Lastly, look at time of day AFTER splitting work days and weekend days:"
   ]
  },
  {
   "cell_type": "code",
   "execution_count": 110,
   "metadata": {},
   "outputs": [
    {
     "name": "stderr",
     "output_type": "stream",
     "text": [
      "<ipython-input-110-e4846d6d2a5b>:1: SettingWithCopyWarning: \n",
      "A value is trying to be set on a copy of a slice from a DataFrame.\n",
      "Try using .loc[row_indexer,col_indexer] = value instead\n",
      "\n",
      "See the caveats in the documentation: https://pandas.pydata.org/pandas-docs/stable/user_guide/indexing.html#returning-a-view-versus-a-copy\n",
      "  day_time['hour'] = day_time['date_time'].dt.hour\n"
     ]
    },
    {
     "data": {
      "image/png": "[encoded data removed]",
      "text/plain": [
       "<Figure size 432x288 with 1 Axes>"
      ]
     },
     "metadata": {
      "needs_background": "light"
     },
     "output_type": "display_data"
    }
   ],
   "source": [
    "day_time['hour'] = day_time['date_time'].dt.hour\n",
    "\n",
    "business_days = day_time[day_time['day_of_week'] <= 4]\n",
    "by_hour_business = business_days.groupby('hour').mean()\n",
    "\n",
    "weekend = day_time[day_time['day_of_week'] > 4]\n",
    "by_hour_weekend = weekend.groupby('hour').mean()\n",
    "\n",
    "plt.plot(by_hour_business['traffic_volume'],label='Work Day')\n",
    "plt.plot(by_hour_weekend['traffic_volume'],label='Weekend Day')\n",
    "plt.legend()\n",
    "plt.xlabel('Hour of Day')\n",
    "plt.ylabel('Traffic Volume')\n",
    "plt.title('Traffic Volume by Hour of Day')\n",
    "plt.show()"
   ]
  },
  {
   "cell_type": "markdown",
   "metadata": {},
   "source": [
    "Again, not particularly surprising, but I guess it does support some basic hypotheses of when traffic is heavy. Morning and evening commutes on work days, and generally throughout midday on weekends are worst."
   ]
  }
 ],
 "metadata": {
  "kernelspec": {
   "display_name": "Python 3",
   "language": "python",
   "name": "python3"
  },
  "language_info": {
   "codemirror_mode": {
    "name": "ipython",
    "version": 3
   },
   "file_extension": ".py",
   "mimetype": "text/x-python",
   "name": "python",
   "nbconvert_exporter": "python",
   "pygments_lexer": "ipython3",
   "version": "3.8.5"
  }
 },
 "nbformat": 4,
 "nbformat_minor": 4
}
