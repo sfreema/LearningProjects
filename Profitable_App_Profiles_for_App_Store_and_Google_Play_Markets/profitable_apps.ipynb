{
 "cells": [
  {
   "cell_type": "markdown",
   "metadata": {},
   "source": [
    "# Profitable App Profiles Guided Project\n",
    "\n",
    "This project leverages app data to determine which kind of free apps would yield the most revenue through ads. We are preparing this for a imaginary company that produces free apps in English that is curious on the qualities of top free apps.\n",
    "\n",
    "We will use two datasets from Kaggle to accomplish this:\n",
    "1. [App Store](https://www.kaggle.com/ramamet4/app-store-apple-data-set-10k-apps)\n",
    "2. [Google Play Store](https://www.kaggle.com/lava18/google-play-store-apps)\n",
    "\n",
    "Sections below:\n",
    "\n",
    "[0.0 Importing Data](#0.0-Importing-Data) <br>\n",
    "\n",
    "[1.0 Data Cleaning](#1.0-Data-Cleaning) <br>\n",
    "[1.1 Remove App Error](#1.1-Remove-App-Error) <br>\n",
    "[1.2 Remove Duplicates](#1.2-Remove-Duplicates) <br>\n",
    "[1.3 Isolate English Apps](#1.3-Isolate-English-Apps) <br>\n",
    "[1.4 Isolate Free Apps](#1.4-Isolate-Free-Apps) <br>\n",
    "\n",
    "[2.0 Analyze Apps](#2.0-Analyze-Apps) <br>\n",
    "[2.1 Identifying Common App Genres](#2.1-Identifying-Common-App-Genres) <br>\n",
    "[2.2 App User Numbers](#2.2-App-User-Numbers) <br>"
   ]
  },
  {
   "cell_type": "markdown",
   "metadata": {},
   "source": [
    "## 0.0 Importing Data"
   ]
  },
  {
   "cell_type": "code",
   "execution_count": 12,
   "metadata": {},
   "outputs": [
    {
     "name": "stdout",
     "output_type": "stream",
     "text": [
      "Total loaded apps: 18038\n"
     ]
    }
   ],
   "source": [
    "# Open both datasets\n",
    "\n",
    "from csv import reader\n",
    "\n",
    "file = open('googleplaystore.csv', encoding='utf8')\n",
    "read_file = reader(file)\n",
    "android = list(read_file)\n",
    "android_header = android[0]\n",
    "android = android[1:]\n",
    "\n",
    "file = open('AppleStore.csv', encoding='utf8')\n",
    "read_file = reader(file)\n",
    "apple = list(read_file)\n",
    "apple_header = apple[0]\n",
    "apple = apple[1:]\n",
    "\n",
    "print('Total loaded apps: ' + str(len(android) + len(apple)))"
   ]
  },
  {
   "cell_type": "code",
   "execution_count": 13,
   "metadata": {},
   "outputs": [],
   "source": [
    "def explore_data(dataset, start, end, rows_and_columns=False):\n",
    "    dataset_slice = dataset[start:end]    \n",
    "    for row in dataset_slice:\n",
    "        print(row)\n",
    "        print('\\n') # adds a new (empty) line after each row\n",
    "\n",
    "    if rows_and_columns:\n",
    "        print('Number of rows:', len(dataset))\n",
    "        print('Number of columns:', len(dataset[0]))"
   ]
  },
  {
   "cell_type": "code",
   "execution_count": 14,
   "metadata": {},
   "outputs": [
    {
     "name": "stdout",
     "output_type": "stream",
     "text": [
      "['Photo Editor & Candy Camera & Grid & ScrapBook', 'ART_AND_DESIGN', '4.1', '159', '19M', '10,000+', 'Free', '0', 'Everyone', 'Art & Design', 'January 7, 2018', '1.0.0', '4.0.3 and up']\n",
      "\n",
      "\n",
      "['Coloring book moana', 'ART_AND_DESIGN', '3.9', '967', '14M', '500,000+', 'Free', '0', 'Everyone', 'Art & Design;Pretend Play', 'January 15, 2018', '2.0.0', '4.0.3 and up']\n",
      "\n",
      "\n",
      "['U Launcher Lite – FREE Live Cool Themes, Hide Apps', 'ART_AND_DESIGN', '4.7', '87510', '8.7M', '5,000,000+', 'Free', '0', 'Everyone', 'Art & Design', 'August 1, 2018', '1.2.4', '4.0.3 and up']\n",
      "\n",
      "\n",
      "['Sketch - Draw & Paint', 'ART_AND_DESIGN', '4.5', '215644', '25M', '50,000,000+', 'Free', '0', 'Teen', 'Art & Design', 'June 8, 2018', 'Varies with device', '4.2 and up']\n",
      "\n",
      "\n",
      "['Pixel Draw - Number Art Coloring Book', 'ART_AND_DESIGN', '4.3', '967', '2.8M', '100,000+', 'Free', '0', 'Everyone', 'Art & Design;Creativity', 'June 20, 2018', '1.1', '4.4 and up']\n",
      "\n",
      "\n",
      "Number of rows: 10841\n",
      "Number of columns: 13\n"
     ]
    }
   ],
   "source": [
    "explore_data(android, 0, 5, True)"
   ]
  },
  {
   "cell_type": "code",
   "execution_count": 15,
   "metadata": {},
   "outputs": [
    {
     "name": "stdout",
     "output_type": "stream",
     "text": [
      "['284882215', 'Facebook', '389879808', 'USD', '0.0', '2974676', '212', '3.5', '3.5', '95.0', '4+', 'Social Networking', '37', '1', '29', '1']\n",
      "\n",
      "\n",
      "['389801252', 'Instagram', '113954816', 'USD', '0.0', '2161558', '1289', '4.5', '4.0', '10.23', '12+', 'Photo & Video', '37', '0', '29', '1']\n",
      "\n",
      "\n",
      "['529479190', 'Clash of Clans', '116476928', 'USD', '0.0', '2130805', '579', '4.5', '4.5', '9.24.12', '9+', 'Games', '38', '5', '18', '1']\n",
      "\n",
      "\n",
      "['420009108', 'Temple Run', '65921024', 'USD', '0.0', '1724546', '3842', '4.5', '4.0', '1.6.2', '9+', 'Games', '40', '5', '1', '1']\n",
      "\n",
      "\n",
      "['284035177', 'Pandora - Music & Radio', '130242560', 'USD', '0.0', '1126879', '3594', '4.0', '4.5', '8.4.1', '12+', 'Music', '37', '4', '1', '1']\n",
      "\n",
      "\n",
      "Number of rows: 7197\n",
      "Number of columns: 16\n"
     ]
    }
   ],
   "source": [
    "explore_data(apple, 0, 5, True)"
   ]
  },
  {
   "cell_type": "markdown",
   "metadata": {},
   "source": [
    "## 1.0 Data Cleaning\n",
    "\n",
    "We will perform 4 steps to clean the data:\n",
    "1. Remove one app with problematic data, as noted from the Kaggle dataset page\n",
    "2. Remove duplicates present in the Google Play Store dataset (none are present in the App Store dataset)\n",
    "3. Single out English apps only as these are the focus of this project\n",
    "4. Finally, remove all non-free apps"
   ]
  },
  {
   "cell_type": "markdown",
   "metadata": {},
   "source": [
    "### 1.1 Remove App Error"
   ]
  },
  {
   "cell_type": "code",
   "execution_count": 16,
   "metadata": {},
   "outputs": [
    {
     "name": "stdout",
     "output_type": "stream",
     "text": [
      "Correct Formatting:\n",
      "App :  Coloring book moana\n",
      "Category :  ART_AND_DESIGN\n",
      "Rating :  3.9\n",
      "Reviews :  967\n",
      "Size :  14M\n",
      "Installs :  500,000+\n",
      "Type :  Free\n",
      "Price :  0\n",
      "Content Rating :  Everyone\n",
      "Genres :  Art & Design;Pretend Play\n",
      "Last Updated :  January 15, 2018\n",
      "Current Ver :  2.0.0\n",
      "Android Ver :  4.0.3 and up\n",
      "\n",
      "Incorrect Formatting:\n",
      "App :  Life Made WI-Fi Touchscreen Photo Frame\n",
      "Category :  1.9\n",
      "Rating :  19\n",
      "Reviews :  3.0M\n",
      "Size :  1,000+\n",
      "Installs :  Free\n",
      "Type :  0\n",
      "Price :  Everyone\n",
      "Content Rating :  \n",
      "Genres :  February 11, 2018\n",
      "Last Updated :  1.0.19\n",
      "Current Ver :  4.0 and up\n"
     ]
    },
    {
     "ename": "IndexError",
     "evalue": "list index out of range",
     "output_type": "error",
     "traceback": [
      "\u001b[1;31m---------------------------------------------------------------------------\u001b[0m",
      "\u001b[1;31mIndexError\u001b[0m                                Traceback (most recent call last)",
      "\u001b[1;32m<ipython-input-16-f306a7809d4a>\u001b[0m in \u001b[0;36m<module>\u001b[1;34m\u001b[0m\n\u001b[0;32m      6\u001b[0m \u001b[0mprint\u001b[0m\u001b[1;33m(\u001b[0m\u001b[1;34m'\\nIncorrect Formatting:'\u001b[0m\u001b[1;33m)\u001b[0m\u001b[1;33m\u001b[0m\u001b[1;33m\u001b[0m\u001b[0m\n\u001b[0;32m      7\u001b[0m \u001b[1;32mfor\u001b[0m \u001b[0mcol\u001b[0m \u001b[1;32min\u001b[0m \u001b[0mrange\u001b[0m\u001b[1;33m(\u001b[0m\u001b[0mlen\u001b[0m\u001b[1;33m(\u001b[0m\u001b[0mandroid_header\u001b[0m\u001b[1;33m)\u001b[0m\u001b[1;33m)\u001b[0m\u001b[1;33m:\u001b[0m\u001b[1;33m\u001b[0m\u001b[1;33m\u001b[0m\u001b[0m\n\u001b[1;32m----> 8\u001b[1;33m     \u001b[0mprint\u001b[0m\u001b[1;33m(\u001b[0m\u001b[0mandroid_header\u001b[0m\u001b[1;33m[\u001b[0m\u001b[0mcol\u001b[0m\u001b[1;33m]\u001b[0m\u001b[1;33m,\u001b[0m \u001b[1;34m': '\u001b[0m\u001b[1;33m,\u001b[0m \u001b[0mandroid\u001b[0m\u001b[1;33m[\u001b[0m\u001b[1;36m10472\u001b[0m\u001b[1;33m]\u001b[0m\u001b[1;33m[\u001b[0m\u001b[0mcol\u001b[0m\u001b[1;33m]\u001b[0m\u001b[1;33m)\u001b[0m\u001b[1;33m\u001b[0m\u001b[1;33m\u001b[0m\u001b[0m\n\u001b[0m\u001b[0;32m      9\u001b[0m \u001b[1;31m# The data is off by one because the Category data is ommitted\u001b[0m\u001b[1;33m\u001b[0m\u001b[1;33m\u001b[0m\u001b[1;33m\u001b[0m\u001b[0m\n",
      "\u001b[1;31mIndexError\u001b[0m: list index out of range"
     ]
    }
   ],
   "source": [
    "# It has been noted that the android dataset has an error in app index=10472\n",
    "# This is android[10473] due to the header in android[0]\n",
    "print('Correct Formatting:')\n",
    "for col in range(len(android_header)):\n",
    "    print(android_header[col], ': ', android[1][col])\n",
    "print('\\nIncorrect Formatting:')\n",
    "for col in range(len(android_header)):\n",
    "    print(android_header[col], ': ', android[10472][col])\n",
    "# The data is off by one because the Category data is ommitted"
   ]
  },
  {
   "cell_type": "code",
   "execution_count": 17,
   "metadata": {},
   "outputs": [
    {
     "name": "stdout",
     "output_type": "stream",
     "text": [
      "['osmino Wi-Fi: free WiFi', 'TOOLS', '4.2', '134203', '4.1M', '10,000,000+', 'Free', '0', 'Everyone', 'Tools', 'August 7, 2018', '6.06.14', '4.4 and up']\n"
     ]
    }
   ],
   "source": [
    "# Remove the problematic app data from android dataset\n",
    "if android[10472][0].startswith('Life Made WI-Fi'):\n",
    "    del android[10472]\n",
    "print(android[10472])"
   ]
  },
  {
   "cell_type": "markdown",
   "metadata": {},
   "source": [
    "### 1.2 Remove Duplicates"
   ]
  },
  {
   "cell_type": "code",
   "execution_count": 18,
   "metadata": {},
   "outputs": [
    {
     "name": "stdout",
     "output_type": "stream",
     "text": [
      "['App', 'Category', 'Rating', 'Reviews', 'Size', 'Installs', 'Type', 'Price', 'Content Rating', 'Genres', 'Last Updated', 'Current Ver', 'Android Ver']\n",
      "['Instagram', 'SOCIAL', '4.5', '66577313', 'Varies with device', '1,000,000,000+', 'Free', '0', 'Teen', 'Social', 'July 31, 2018', 'Varies with device', 'Varies with device']\n",
      "['Instagram', 'SOCIAL', '4.5', '66577446', 'Varies with device', '1,000,000,000+', 'Free', '0', 'Teen', 'Social', 'July 31, 2018', 'Varies with device', 'Varies with device']\n",
      "['Instagram', 'SOCIAL', '4.5', '66577313', 'Varies with device', '1,000,000,000+', 'Free', '0', 'Teen', 'Social', 'July 31, 2018', 'Varies with device', 'Varies with device']\n",
      "['Instagram', 'SOCIAL', '4.5', '66509917', 'Varies with device', '1,000,000,000+', 'Free', '0', 'Teen', 'Social', 'July 31, 2018', 'Varies with device', 'Varies with device']\n"
     ]
    }
   ],
   "source": [
    "# Next, remove duplicates that are present within the android dataset\n",
    "# See example of duplicates below:\n",
    "print(android_header)\n",
    "for app in android:\n",
    "    if app[0] == 'Instagram':\n",
    "        print(app)"
   ]
  },
  {
   "cell_type": "code",
   "execution_count": 19,
   "metadata": {},
   "outputs": [
    {
     "name": "stdout",
     "output_type": "stream",
     "text": [
      "Duplicates:  1181\n"
     ]
    }
   ],
   "source": [
    "# How many such cases are there?\n",
    "duplicates = 0\n",
    "app_name = []\n",
    "for app in android:\n",
    "    if app[0] in app_name:\n",
    "        duplicates += 1\n",
    "    else:\n",
    "        app_name.append(app[0])\n",
    "print('Duplicates: ',duplicates)"
   ]
  },
  {
   "cell_type": "code",
   "execution_count": 20,
   "metadata": {},
   "outputs": [
    {
     "name": "stdout",
     "output_type": "stream",
     "text": [
      "[1, 2033] : Coloring book moana\n",
      "[23, 2111] : Mcqueen Coloring pages\n",
      "[36, 7027] : UNICORN - Color By Number & Pixel Art Coloring\n",
      "[42, 4241] : Textgram - write on photos\n",
      "[139, 4715] : Wattpad 📖 Free Books\n",
      "[143, 4083] : Amazon Kindle\n",
      "[145, 9621] : Dictionary - Merriam-Webster\n",
      "[146, 6497] : NOOK: Read eBooks & Magazines\n",
      "[155, 9642] : Oxford Dictionary of English : Free\n",
      "[157, 9570] : Spanish English Translator\n",
      "[162, 6509] : NOOK App for NOOK Devices\n",
      "[164, 4095] : Ebook Reader\n",
      "[186, 6296] : English Dictionary - Offline\n",
      "[192, 292] : Docs To Go™ Free Office Suite\n",
      "[193, 239, 268] : Google My Business\n",
      "[194, 293] : OfficeSuite : Free Office + PDF Editor\n",
      "[197, 7939] : Curriculum vitae App CV Builder Free Resume Maker\n",
      "[201, 10200] : Facebook Pages Manager\n",
      "[204, 236, 265] : Box\n",
      "[206, 436] : Call Blocker\n",
      "[213, 256] : ZOOM Cloud Meetings\n",
      "[215, 10203] : Facebook Ads Manager\n",
      "[222, 229, 285] : Quick PDF Scanner + OCR FREE\n",
      "[228, 284] : SignEasy | Sign and Fill PDF and other Documents\n",
      "[230, 286] : Genius Scan - PDF Scanner\n",
      "[231, 287] : Tiny Scanner - PDF Scanner App\n",
      "[232, 288] : Fast Scanner : Free PDF Scan\n",
      "[233, 289] : Mobile Doc Scanner (MDScan) Lite\n",
      "[234, 290] : TurboScan: scan documents and receipts in PDF\n",
      "[235, 291] : Tiny Scanner Pro: PDF Doc Scan\n",
      "[237, 266] : Zenefits\n",
      "[238, 267, 4979] : Google Ads\n",
      "[240, 269, 294] : Slack\n",
      "[241, 270] : FreshBooks Classic\n",
      "[242, 271] : Insightly CRM\n",
      "[243, 272, 296] : QuickBooks Accounting: Invoicing & Expenses\n",
      "[244, 273] : HipChat - Chat Built for Teams\n",
      "[245, 274] : Xero Accounting Software\n",
      "[246, 275] : MailChimp - Email, Marketing Automation\n",
      "[247, 276] : Crew - Free Messaging and Scheduling\n",
      "[248, 277] : Asana: organize team projects\n",
      "[249, 278] : Google Analytics\n",
      "[250, 279] : AdWords Express\n",
      "[251, 280] : Accounting App - Zoho Books\n",
      "[252, 281] : Invoice & Time Tracking - Zoho\n",
      "[253, 261, 282] : join.me - Simple Meetings\n",
      "[254, 283] : Invoice 2go — Professional Invoices and Estimates\n",
      "[297, 4724] : LINE WEBTOON - Free Comics\n",
      "[312, 6411] : Daily Manga - Comic & Webtoon\n",
      "[315, 8246] : DC Comics\n",
      "[325, 5905] : Manga AZ - Manga Comic Reader\n"
     ]
    }
   ],
   "source": [
    "# Remove duplicates by keeping only most recent entry (ie. with most ratings)\n",
    "# The following method differs from the instruction of Dataquest, because I\n",
    "# wanted to do it myself\n",
    "# Start by making a dictionary that stores 'app name':[indices in android]\n",
    "app_instances = {}\n",
    "for i_app in range(len(android)):\n",
    "    app_name = android[i_app][0]\n",
    "    if app_name in app_instances:\n",
    "        app_instances[app_name].append(i_app)\n",
    "    else:\n",
    "        app_instances[app_name] = [i_app]\n",
    "\n",
    "header = 0\n",
    "for i_app in app_instances:\n",
    "    if header > 50:\n",
    "        break\n",
    "    if len(app_instances[i_app]) > 1:\n",
    "        print('{} : {}'.format(app_instances[i_app],i_app))\n",
    "        header += 1"
   ]
  },
  {
   "cell_type": "code",
   "execution_count": 21,
   "metadata": {},
   "outputs": [],
   "source": [
    "# Helper to pick out android app row with the highest value in given column\n",
    "# By default, this is the ratings in column index 3\n",
    "def max_in_column(duplicates,column_index=3):\n",
    "    column_vals = []\n",
    "    for i_app in duplicates:\n",
    "        column_vals.append(android[i_app][column_index])\n",
    "    max_val = max(column_vals)\n",
    "    return duplicates[column_vals.index(max_val)]"
   ]
  },
  {
   "cell_type": "code",
   "execution_count": 22,
   "metadata": {},
   "outputs": [
    {
     "name": "stdout",
     "output_type": "stream",
     "text": [
      "Android app count:  10840\n",
      "Android app count without duplicates:  9659\n"
     ]
    }
   ],
   "source": [
    "# Use app_instances and helper function to add each app to a new list called\n",
    "# android_clean\n",
    "print('Android app count: ', len(android))\n",
    "android_clean = []\n",
    "for app in app_instances:\n",
    "    instances = app_instances[app]\n",
    "    if len(instances) > 1:\n",
    "        i_app_to_keep = max_in_column(instances)\n",
    "        android_clean.append(android[i_app_to_keep])\n",
    "    else:\n",
    "        android_clean.append(android[instances[0]])\n",
    "print('Android app count without duplicates: ', len(android_clean))"
   ]
  },
  {
   "cell_type": "markdown",
   "metadata": {},
   "source": [
    "### 1.3 Isolate English Apps"
   ]
  },
  {
   "cell_type": "code",
   "execution_count": 23,
   "metadata": {},
   "outputs": [
    {
     "name": "stdout",
     "output_type": "stream",
     "text": [
      "True\n",
      "False\n",
      "True\n",
      "True\n"
     ]
    }
   ],
   "source": [
    "# Start by defining a function that evaluates whether a string is:\n",
    "# - English only, most of the time (True)\n",
    "# - Includes non-English (False)\n",
    "def eng_check(s):\n",
    "    strike = 0\n",
    "    for c in s:\n",
    "        if ord(c) > 127:\n",
    "            strike += 1\n",
    "        if strike == 4:\n",
    "            return False\n",
    "    return True\n",
    "# Test the function on some examples\n",
    "print(eng_check('Instagram'))\n",
    "print(eng_check('爱奇艺PPS -《欢乐颂2》电视剧热播'))\n",
    "print(eng_check('Docs To Go™ Free Office Suite'))\n",
    "print(eng_check('Instachat 😜'))"
   ]
  },
  {
   "cell_type": "code",
   "execution_count": 24,
   "metadata": {},
   "outputs": [
    {
     "name": "stdout",
     "output_type": "stream",
     "text": [
      "Non-English apps removed:  45\n",
      "Non-English apps removed:  1014\n",
      "Total remaining apps = 9614 + 6183 = 15797\n"
     ]
    }
   ],
   "source": [
    "# Apply the filter to create new so-called *_English datasets\n",
    "def Englishify(ds,app_name_index):\n",
    "    eng_ds = []\n",
    "    for app in ds:\n",
    "        if eng_check(app[app_name_index]):\n",
    "            eng_ds.append(app)\n",
    "    print('Non-English apps removed: ',len(ds)-len(eng_ds))\n",
    "    return eng_ds\n",
    "android_English = Englishify(android_clean,0)\n",
    "apple_English = Englishify(apple,1)\n",
    "print('Total remaining apps = {} + {} = {}'.format(len(android_English), \\\n",
    "                                                  len(apple_English), \\\n",
    "                                                  len(android_English) + len(apple_English)))"
   ]
  },
  {
   "cell_type": "markdown",
   "metadata": {},
   "source": [
    "### 1.4 Isolate Free Apps"
   ]
  },
  {
   "cell_type": "code",
   "execution_count": 25,
   "metadata": {},
   "outputs": [
    {
     "name": "stdout",
     "output_type": "stream",
     "text": [
      "['App', 'Category', 'Rating', 'Reviews', 'Size', 'Installs', 'Type', 'Price', 'Content Rating', 'Genres', 'Last Updated', 'Current Ver', 'Android Ver']\n",
      "['id', 'track_name', 'size_bytes', 'currency', 'price', 'rating_count_tot', 'rating_count_ver', 'user_rating', 'user_rating_ver', 'ver', 'cont_rating', 'prime_genre', 'sup_devices.num', 'ipadSc_urls.num', 'lang.num', 'vpp_lic']\n"
     ]
    }
   ],
   "source": [
    "# Check in each header where the price index is:\n",
    "print(android_header) # index=7\n",
    "print(apple_header)   # index=4"
   ]
  },
  {
   "cell_type": "code",
   "execution_count": 26,
   "metadata": {},
   "outputs": [
    {
     "name": "stdout",
     "output_type": "stream",
     "text": [
      "['0', '$4.99', '$3.99', '$6.99', '$1.49', '$2.99', '$7.99', '$5.99', '$3.49', '$1.99', '$9.99', '$7.49', '$0.99', '$9.00', '$5.49', '$10.00', '$24.99', '$11.99', '$79.99', '$16.99', '$14.99', '$1.00', '$29.99', '$12.99', '$2.49', '$10.99', '$1.50', '$19.99', '$15.99', '$33.99', '$74.99', '$39.99', '$3.95', '$4.49', '$1.70', '$8.99', '$2.00', '$3.88', '$25.99', '$399.99', '$17.99', '$400.00', '$3.02', '$1.76', '$4.84', '$4.77', '$1.61', '$2.50', '$1.59', '$6.49', '$1.29', '$5.00', '$13.99', '$299.99', '$379.99', '$37.99', '$18.99', '$389.99', '$19.90', '$8.49', '$1.75', '$14.00', '$4.85', '$46.99', '$109.99', '$154.99', '$3.08', '$2.59', '$4.80', '$1.96', '$19.40', '$3.90', '$4.59', '$15.46', '$3.04', '$4.29', '$2.60', '$3.28', '$4.60', '$28.99', '$2.95', '$2.90', '$1.97', '$200.00', '$89.99', '$2.56', '$30.99', '$3.61', '$394.99', '$1.26', '$1.20', '$1.04']\n",
      "['0.0', '1.99', '0.99', '6.99', '2.99', '7.99', '4.99', '9.99', '3.99', '8.99', '5.99', '14.99', '13.99', '19.99', '17.99', '15.99', '24.99', '20.99', '29.99', '12.99', '39.99', '74.99', '16.99', '249.99', '11.99', '27.99', '49.99', '59.99', '22.99', '18.99', '99.99', '21.99', '34.99', '299.99']\n"
     ]
    }
   ],
   "source": [
    "# Before pruning the data, look at the range of options here\n",
    "def vals_in_col(ds,i):\n",
    "    vals = []\n",
    "    for app in ds:\n",
    "        if app[i] not in vals:\n",
    "            vals.append(app[i])\n",
    "    print(vals)\n",
    "vals_in_col(android_English,7)\n",
    "vals_in_col(apple_English,4)\n",
    "# We will have to strip away the '$' before checking the dollar-value"
   ]
  },
  {
   "cell_type": "code",
   "execution_count": 27,
   "metadata": {},
   "outputs": [
    {
     "name": "stdout",
     "output_type": "stream",
     "text": [
      "Pay2Win apps removed:  752\n",
      "Pay2Win apps removed:  2961\n",
      "Total remaining apps = 8862 + 3222 = 12084\n"
     ]
    }
   ],
   "source": [
    "# Similar to the method in 1.3, go through each list to make another dataset\n",
    "def get_free(ds,i_price):\n",
    "    free_ds = []\n",
    "    for app in ds:\n",
    "        price = float(app[i_price].lstrip('$'))\n",
    "        if price == 0.00:\n",
    "            free_ds.append(app)\n",
    "    print('Pay2Win apps removed: ',len(ds)-len(free_ds))\n",
    "    return(free_ds)\n",
    "android_free = get_free(android_English,7)\n",
    "apple_free = get_free(apple_English,4)\n",
    "print('Total remaining apps = {} + {} = {}'.format(len(android_free), \\\n",
    "                                                  len(apple_free), \\\n",
    "                                                  len(android_free) + len(apple_free)))"
   ]
  },
  {
   "cell_type": "markdown",
   "metadata": {},
   "source": [
    "## 2.0 Analyze Apps\n",
    "\n",
    "Now the data is ready to be analyzed.\n",
    "\n",
    "Since the business plan based on this analysis is to:\n",
    "1. build an Android app available on Google Play,\n",
    "2. develop it further if the app has a good response,\n",
    "3. if app is profitable after 6 months, then build an iOS version for the App Store,\n",
    "\n",
    "we will want to examine apps within our data that have performed well on both platforms."
   ]
  },
  {
   "cell_type": "markdown",
   "metadata": {},
   "source": [
    "### 2.1 Identifying Common App Genres"
   ]
  },
  {
   "cell_type": "code",
   "execution_count": 28,
   "metadata": {},
   "outputs": [
    {
     "name": "stdout",
     "output_type": "stream",
     "text": [
      "['App', 'Category', 'Rating', 'Reviews', 'Size', 'Installs', 'Type', 'Price', 'Content Rating', 'Genres', 'Last Updated', 'Current Ver', 'Android Ver']\n",
      "['id', 'track_name', 'size_bytes', 'currency', 'price', 'rating_count_tot', 'rating_count_ver', 'user_rating', 'user_rating_ver', 'ver', 'cont_rating', 'prime_genre', 'sup_devices.num', 'ipadSc_urls.num', 'lang.num', 'vpp_lic']\n"
     ]
    }
   ],
   "source": [
    "# First look at the columns we will need to assess in the datasets\n",
    "print(android_header) # genre index=9, category index=1\n",
    "print(apple_header)   # genre index=11\n",
    "# two android dataset columns are indicative of the genre information"
   ]
  },
  {
   "cell_type": "code",
   "execution_count": 29,
   "metadata": {},
   "outputs": [],
   "source": [
    "# Helper function to define a frequency table for a given column\n",
    "def freq_table(ds, index):\n",
    "    ds_len = len(ds)\n",
    "    d = {}\n",
    "    for app in ds:\n",
    "        if app[index] in d:\n",
    "            d[app[index]] += 100.0 / ds_len\n",
    "        else:\n",
    "            d[app[index]] = 100.0 / ds_len\n",
    "    return d\n",
    "\n",
    "# Helper function from Dataquest to sort the output of the frequency table\n",
    "def display_table(dataset, index):\n",
    "    table = freq_table(dataset, index)\n",
    "    table_display = []\n",
    "    for key in table:\n",
    "        key_val_as_tuple = (table[key], key)\n",
    "        table_display.append(key_val_as_tuple)\n",
    "\n",
    "    table_sorted = sorted(table_display, reverse = True)\n",
    "    for entry in table_sorted:\n",
    "        print(entry[1], ':', entry[0])"
   ]
  },
  {
   "cell_type": "code",
   "execution_count": 30,
   "metadata": {},
   "outputs": [
    {
     "name": "stdout",
     "output_type": "stream",
     "text": [
      "Category data\n",
      "FAMILY : 18.9347777025507\n",
      "GAME : 9.69307154141295\n",
      "TOOLS : 8.451816745655742\n",
      "BUSINESS : 4.592642744301517\n",
      "LIFESTYLE : 3.904310539381615\n",
      "PRODUCTIVITY : 3.893026404874732\n",
      "FINANCE : 3.7011961182577164\n",
      "MEDICAL : 3.5206499661475843\n",
      "SPORTS : 3.3965244865718685\n",
      "PERSONALIZATION : 3.3175355450236856\n",
      "COMMUNICATION : 3.238546603475503\n",
      "HEALTH_AND_FITNESS : 3.080568720379137\n",
      "PHOTOGRAPHY : 2.945159106296538\n",
      "NEWS_AND_MAGAZINES : 2.7984653577070557\n",
      "SOCIAL : 2.6630557436244566\n",
      "TRAVEL_AND_LOCAL : 2.335815842924842\n",
      "SHOPPING : 2.245542766869776\n",
      "BOOKS_AND_REFERENCE : 2.1439855563078267\n",
      "DATING : 1.861882193635745\n",
      "VIDEO_PLAYERS : 1.7941773865944455\n",
      "MAPS_AND_NAVIGATION : 1.3992326788535314\n",
      "FOOD_AND_DRINK : 1.2412547957571658\n",
      "EDUCATION : 1.1735499887158662\n",
      "ENTERTAINMENT : 0.959151433085084\n",
      "LIBRARIES_AND_DEMO : 0.9365831640713173\n",
      "AUTO_AND_VEHICLES : 0.9252990295644339\n",
      "HOUSE_AND_HOME : 0.8237418190024836\n",
      "WEATHER : 0.8011735499887168\n",
      "EVENTS : 0.7109004739336499\n",
      "PARENTING : 0.654479801399233\n",
      "ART_AND_DESIGN : 0.6431956668923496\n",
      "COMICS : 0.6206273978785829\n",
      "BEAUTY : 0.5980591288648162\n"
     ]
    }
   ],
   "source": [
    "print('Category data')\n",
    "display_table(android_free,1)"
   ]
  },
  {
   "cell_type": "markdown",
   "metadata": {},
   "source": [
    "The above data is for the category column of the Google Play Store dataset. Family apps are the most common - those accessible to any age. Beyond this, Games and Tools and the most popular."
   ]
  },
  {
   "cell_type": "code",
   "execution_count": 31,
   "metadata": {},
   "outputs": [
    {
     "name": "stdout",
     "output_type": "stream",
     "text": [
      "Genre data\n",
      "Tools : 8.440532611148859\n",
      "Entertainment : 6.070864364703282\n",
      "Education : 5.348679756262725\n",
      "Business : 4.592642744301517\n",
      "Productivity : 3.893026404874732\n",
      "Lifestyle : 3.893026404874732\n",
      "Finance : 3.7011961182577164\n",
      "Medical : 3.5206499661475843\n",
      "Sports : 3.464229293613168\n",
      "Personalization : 3.3175355450236856\n",
      "Communication : 3.238546603475503\n",
      "Action : 3.1031369893929037\n",
      "Health & Fitness : 3.080568720379137\n",
      "Photography : 2.945159106296538\n",
      "News & Magazines : 2.7984653577070557\n",
      "Social : 2.6630557436244566\n",
      "Travel & Local : 2.324531708417959\n",
      "Shopping : 2.245542766869776\n",
      "Books & Reference : 2.1439855563078267\n",
      "Simulation : 2.0424283457458774\n",
      "Dating : 1.861882193635745\n",
      "Arcade : 1.8505980591288618\n",
      "Video Players & Editors : 1.771609117580679\n",
      "Casual : 1.7490408485669124\n",
      "Maps & Navigation : 1.3992326788535314\n",
      "Food & Drink : 1.2412547957571658\n",
      "Puzzle : 1.1284134506883332\n",
      "Racing : 0.9930038366057341\n",
      "Role Playing : 0.9365831640713173\n",
      "Libraries & Demo : 0.9365831640713173\n",
      "Auto & Vehicles : 0.9252990295644339\n",
      "Strategy : 0.9140148950575505\n",
      "House & Home : 0.8237418190024836\n",
      "Weather : 0.8011735499887168\n",
      "Events : 0.7109004739336499\n",
      "Adventure : 0.6770480704129997\n",
      "Comics : 0.6093432633716995\n",
      "Beauty : 0.5980591288648162\n",
      "Art & Design : 0.5980591288648162\n",
      "Parenting : 0.4965019183028659\n",
      "Card : 0.4400812457684493\n",
      "Casino : 0.428797111261566\n",
      "Trivia : 0.4175129767546827\n",
      "Educational;Education : 0.39494470774091606\n",
      "Educational : 0.37237643872714943\n",
      "Board : 0.37237643872714943\n",
      "Education;Education : 0.3385240352064995\n",
      "Word : 0.2595350936583163\n",
      "Casual;Pretend Play : 0.23696682464454966\n",
      "Music : 0.2031144211238997\n",
      "Puzzle;Brain Games : 0.18054615211013308\n",
      "Racing;Action & Adventure : 0.16926201760324977\n",
      "Entertainment;Music & Video : 0.16926201760324977\n",
      "Casual;Brain Games : 0.13540961408259983\n",
      "Casual;Action & Adventure : 0.13540961408259983\n",
      "Arcade;Action & Adventure : 0.12412547957571651\n",
      "Action;Action & Adventure : 0.10155721056194988\n",
      "Educational;Pretend Play : 0.09027307605506657\n",
      "Board;Brain Games : 0.09027307605506657\n",
      "Simulation;Action & Adventure : 0.07898894154818326\n",
      "Parenting;Education : 0.07898894154818326\n",
      "Entertainment;Brain Games : 0.07898894154818326\n",
      "Parenting;Music & Video : 0.06770480704129993\n",
      "Educational;Brain Games : 0.06770480704129993\n",
      "Casual;Creativity : 0.06770480704129993\n",
      "Art & Design;Creativity : 0.06770480704129993\n",
      "Education;Pretend Play : 0.056420672534416606\n",
      "Role Playing;Pretend Play : 0.045136538027533285\n",
      "Education;Creativity : 0.045136538027533285\n",
      "Role Playing;Action & Adventure : 0.033852403520649964\n",
      "Puzzle;Action & Adventure : 0.033852403520649964\n",
      "Entertainment;Creativity : 0.033852403520649964\n",
      "Entertainment;Action & Adventure : 0.033852403520649964\n",
      "Educational;Creativity : 0.033852403520649964\n",
      "Educational;Action & Adventure : 0.033852403520649964\n",
      "Education;Music & Video : 0.033852403520649964\n",
      "Education;Brain Games : 0.033852403520649964\n",
      "Education;Action & Adventure : 0.033852403520649964\n",
      "Adventure;Action & Adventure : 0.033852403520649964\n",
      "Video Players & Editors;Music & Video : 0.022568269013766643\n",
      "Sports;Action & Adventure : 0.022568269013766643\n",
      "Simulation;Pretend Play : 0.022568269013766643\n",
      "Puzzle;Creativity : 0.022568269013766643\n",
      "Music;Music & Video : 0.022568269013766643\n",
      "Entertainment;Pretend Play : 0.022568269013766643\n",
      "Casual;Education : 0.022568269013766643\n",
      "Board;Action & Adventure : 0.022568269013766643\n",
      "Video Players & Editors;Creativity : 0.011284134506883321\n",
      "Trivia;Education : 0.011284134506883321\n",
      "Travel & Local;Action & Adventure : 0.011284134506883321\n",
      "Tools;Education : 0.011284134506883321\n",
      "Strategy;Education : 0.011284134506883321\n",
      "Strategy;Creativity : 0.011284134506883321\n",
      "Strategy;Action & Adventure : 0.011284134506883321\n",
      "Simulation;Education : 0.011284134506883321\n",
      "Role Playing;Brain Games : 0.011284134506883321\n",
      "Racing;Pretend Play : 0.011284134506883321\n",
      "Puzzle;Education : 0.011284134506883321\n",
      "Parenting;Brain Games : 0.011284134506883321\n",
      "Music & Audio;Music & Video : 0.011284134506883321\n",
      "Lifestyle;Pretend Play : 0.011284134506883321\n",
      "Lifestyle;Education : 0.011284134506883321\n",
      "Health & Fitness;Education : 0.011284134506883321\n",
      "Health & Fitness;Action & Adventure : 0.011284134506883321\n",
      "Entertainment;Education : 0.011284134506883321\n",
      "Communication;Creativity : 0.011284134506883321\n",
      "Comics;Creativity : 0.011284134506883321\n",
      "Casual;Music & Video : 0.011284134506883321\n",
      "Card;Brain Games : 0.011284134506883321\n",
      "Card;Action & Adventure : 0.011284134506883321\n",
      "Books & Reference;Education : 0.011284134506883321\n",
      "Art & Design;Pretend Play : 0.011284134506883321\n",
      "Art & Design;Action & Adventure : 0.011284134506883321\n",
      "Arcade;Pretend Play : 0.011284134506883321\n",
      "Adventure;Education : 0.011284134506883321\n"
     ]
    }
   ],
   "source": [
    "print('Genre data')\n",
    "display_table(android_free,9)"
   ]
  },
  {
   "cell_type": "markdown",
   "metadata": {},
   "source": [
    "For the genres of Google Play app dataset, Tools are the highest, even above entertainment apps. Surprisingly, leisure/games do not rank anywhere near the top here, but looking down below we can see that there are many subgenres for games that have divided that category into many genres: Action, Simulation, Arcave, Casual, Puzzle, Racing, Tole Playing, Strategy, etc.). Without adding all these up, we can see that the top genre games (action, simulation, arcade) equal 3.1% + 2% + 1.8% = 7% near to the percentage of the highest genre, that is Tools. Ultimately, it seems that family-friendly games are the most common."
   ]
  },
  {
   "cell_type": "code",
   "execution_count": 32,
   "metadata": {},
   "outputs": [
    {
     "name": "stdout",
     "output_type": "stream",
     "text": [
      "Games : 58.1626319056464\n",
      "Entertainment : 7.883302296710134\n",
      "Photo & Video : 4.965859714463075\n",
      "Education : 3.6623215394165176\n",
      "Social Networking : 3.2898820608317867\n",
      "Shopping : 2.6070763500931133\n",
      "Utilities : 2.5139664804469306\n",
      "Sports : 2.1415270018621997\n",
      "Music : 2.048417132216017\n",
      "Health & Fitness : 2.0173805090006227\n",
      "Productivity : 1.7380509000620747\n",
      "Lifestyle : 1.5828677839851035\n",
      "News : 1.3345747982619496\n",
      "Travel : 1.2414649286157668\n",
      "Finance : 1.1173184357541899\n",
      "Weather : 0.8690254500310364\n",
      "Food & Drink : 0.8069522036002481\n",
      "Reference : 0.558659217877095\n",
      "Business : 0.5276225946617009\n",
      "Book : 0.4345127250155184\n",
      "Navigation : 0.186219739292365\n",
      "Medical : 0.186219739292365\n",
      "Catalogs : 0.12414649286157665\n"
     ]
    }
   ],
   "source": [
    "display_table(apple_free,11)"
   ]
  },
  {
   "cell_type": "markdown",
   "metadata": {},
   "source": [
    "For the App Store, there is clearly an overwhelming majority of game apps. Beyond this, later apps of different genres are in closer proportion, with 'Entertainment' apps coming in second. Generally speaking then, it can be said that popular App Store apps are for hobby and leisure rather than essential or practical purposes. If we are to produce a popular free English app, then a game seems best, though potentially that market is saturated. We would need to investigate other aspects of the data to get a better sense.\n",
    "\n",
    "Overall, following out strategy, releasing a game on Google Play would probably work well on the App Store."
   ]
  },
  {
   "cell_type": "markdown",
   "metadata": {},
   "source": [
    "### 2.2 App User Numbers\n",
    "\n",
    "Ideally we would have user counts available for each app, but this information is missing fro the App Store dataset. Instead, use the number of user ratings as a proxy for the App Store dataset."
   ]
  },
  {
   "cell_type": "code",
   "execution_count": 33,
   "metadata": {},
   "outputs": [
    {
     "name": "stdout",
     "output_type": "stream",
     "text": [
      "Social Networking average ratings: 71548.34905660378\n",
      "Photo & Video average ratings: 28441.54375\n",
      "Games average ratings: 22788.6696905016\n",
      "Music average ratings: 57326.530303030304\n",
      "Reference average ratings: 74942.11111111111\n",
      "Health & Fitness average ratings: 23298.015384615384\n",
      "Weather average ratings: 52279.892857142855\n",
      "Utilities average ratings: 18684.456790123455\n",
      "Travel average ratings: 28243.8\n",
      "Shopping average ratings: 26919.690476190477\n",
      "News average ratings: 21248.023255813954\n",
      "Navigation average ratings: 86090.33333333333\n",
      "Lifestyle average ratings: 16485.764705882353\n",
      "Entertainment average ratings: 14029.830708661417\n",
      "Food & Drink average ratings: 33333.92307692308\n",
      "Sports average ratings: 23008.898550724636\n",
      "Book average ratings: 39758.5\n",
      "Finance average ratings: 31467.944444444445\n",
      "Education average ratings: 7003.983050847458\n",
      "Productivity average ratings: 21028.410714285714\n",
      "Business average ratings: 7491.117647058823\n",
      "Catalogs average ratings: 4004.0\n",
      "Medical average ratings: 612.0\n"
     ]
    }
   ],
   "source": [
    "genre_reviews = freq_table(apple_free, 11)\n",
    "for genre in genre_reviews:\n",
    "    reviews, genre_count = 0, 0\n",
    "    for app in apple_free:\n",
    "        if app[11] == genre:\n",
    "            reviews += float(app[5])\n",
    "            genre_count += 1\n",
    "    print(genre, \"average ratings:\", reviews / genre_count)"
   ]
  },
  {
   "cell_type": "markdown",
   "metadata": {},
   "source": [
    "As expected, the number of average ratings for games is rather low given how many game apps are present on the App Store. Navigation apps have the most ratings, followed by Reference apps, then Social Networking apps. Ideally we go for a type of app that has many reviews (ie. users) and is popular. A social networking app seems best then."
   ]
  },
  {
   "cell_type": "code",
   "execution_count": 34,
   "metadata": {},
   "outputs": [
    {
     "name": "stdout",
     "output_type": "stream",
     "text": [
      "1,000,000+ : 15.741367637102615\n",
      "100,000+ : 11.55495373504876\n",
      "10,000,000+ : 10.51681336041546\n",
      "10,000+ : 10.200857594222716\n",
      "1,000+ : 8.395396073121324\n",
      "100+ : 6.91717445271956\n",
      "5,000,000+ : 6.838185511171374\n",
      "500,000+ : 5.574362446400399\n",
      "50,000+ : 4.773188896411656\n",
      "5,000+ : 4.513653802753331\n",
      "10+ : 3.543218235161351\n",
      "500+ : 3.249830737982386\n",
      "50,000,000+ : 2.290679304897309\n",
      "100,000,000+ : 2.12141728729406\n",
      "50+ : 1.9183028661701613\n",
      "5+ : 0.7898894154818334\n",
      "1+ : 0.5077860528097492\n",
      "500,000,000+ : 0.2708192281651996\n",
      "1,000,000,000+ : 0.22568269013766634\n",
      "0+ : 0.045136538027533285\n",
      "0 : 0.011284134506883321\n"
     ]
    }
   ],
   "source": [
    "# Compare to installs for Google Play Store\n",
    "display_table(android_free, 5)"
   ]
  },
  {
   "cell_type": "code",
   "execution_count": 37,
   "metadata": {},
   "outputs": [
    {
     "name": "stdout",
     "output_type": "stream",
     "text": [
      "ART_AND_DESIGN average users: 1986335.0877192982\n",
      "FAMILY average users: 3694276.334922527\n",
      "AUTO_AND_VEHICLES average users: 647317.8170731707\n",
      "BEAUTY average users: 513151.88679245283\n",
      "BOOKS_AND_REFERENCE average users: 8767811.894736841\n",
      "BUSINESS average users: 1712290.1474201474\n",
      "COMICS average users: 817657.2727272727\n",
      "COMMUNICATION average users: 38456119.167247385\n",
      "DATING average users: 854028.8303030303\n",
      "EDUCATION average users: 1820673.076923077\n",
      "ENTERTAINMENT average users: 11640705.88235294\n",
      "EVENTS average users: 253542.22222222222\n",
      "FINANCE average users: 1387692.475609756\n",
      "FOOD_AND_DRINK average users: 1924897.7363636363\n",
      "HEALTH_AND_FITNESS average users: 4188821.9853479853\n",
      "HOUSE_AND_HOME average users: 1331540.5616438356\n",
      "TOOLS average users: 10682301.033377837\n",
      "LIBRARIES_AND_DEMO average users: 638503.734939759\n",
      "LIFESTYLE average users: 1437816.2687861272\n",
      "GAME average users: 15560965.599534342\n",
      "VIDEO_PLAYERS average users: 24727872.452830188\n",
      "MEDICAL average users: 120616.48717948717\n",
      "SOCIAL average users: 23253652.127118643\n",
      "SHOPPING average users: 7036877.311557789\n",
      "PHOTOGRAPHY average users: 17805627.643678162\n",
      "SPORTS average users: 3638640.1428571427\n",
      "TRAVEL_AND_LOCAL average users: 13984077.710144928\n",
      "PERSONALIZATION average users: 5201482.6122448975\n",
      "PRODUCTIVITY average users: 16787331.344927534\n",
      "PARENTING average users: 542603.6206896552\n",
      "WEATHER average users: 5074486.197183099\n",
      "NEWS_AND_MAGAZINES average users: 9549178.467741935\n",
      "MAPS_AND_NAVIGATION average users: 4056941.7741935486\n"
     ]
    }
   ],
   "source": [
    "# Going forward, take all apps with x+ users to have contains x users exactly\n",
    "# Now parse and compute an average like for the App Store data\n",
    "category_users = freq_table(android_free, 1)\n",
    "for category in category_users:\n",
    "    users, category_count = 0, 0\n",
    "    for app in android_free:\n",
    "        if app[1] == category:\n",
    "            users += float(app[5].replace(',','').replace('+',''))\n",
    "            category_count += 1\n",
    "    print(category, \"average users:\", users / category_count)"
   ]
  }
 ],
 "metadata": {
  "kernelspec": {
   "display_name": "Python 3",
   "language": "python",
   "name": "python3"
  },
  "language_info": {
   "codemirror_mode": {
    "name": "ipython",
    "version": 3
   },
   "file_extension": ".py",
   "mimetype": "text/x-python",
   "name": "python",
   "nbconvert_exporter": "python",
   "pygments_lexer": "ipython3",
   "version": "3.8.5"
  }
 },
 "nbformat": 4,
 "nbformat_minor": 4
}
